{
 "cells": [
  {
   "cell_type": "code",
   "execution_count": 51,
   "metadata": {},
   "outputs": [],
   "source": [
    "import pandas as pd\n",
    "\n",
    "col_name = ['student_id', 'usertype', 'timetable', 'memo', 'retry_standard']\n",
    "temp_list = [['2021314602', 6, '[]', '살자', 'C+']]\n",
    "df = pd.DataFrame(temp_list,columns=col_name)\n",
    "df.to_csv('user_info.csv')"
   ]
  },
  {
   "cell_type": "code",
   "execution_count": 11,
   "metadata": {},
   "outputs": [
    {
     "data": {
      "text/plain": [
       "[['2021314602', 6, '[]', '살자', 'C+']]"
      ]
     },
     "execution_count": 11,
     "metadata": {},
     "output_type": "execute_result"
    }
   ],
   "source": [
    "import pandas as pd\n",
    "\n",
    "col_name = ['student_id', 'usertype', 'timetable', 'memo', 'retry_standard']\n",
    "temp_list = [['2021314602', 6, '[]', '살자', 'C+']]\n",
    "df = pd.DataFrame(temp_list,columns=col_name)\n",
    "df.values.tolist()"
   ]
  },
  {
   "cell_type": "code",
   "execution_count": 14,
   "metadata": {},
   "outputs": [
    {
     "data": {
      "text/plain": [
       "4"
      ]
     },
     "execution_count": 14,
     "metadata": {},
     "output_type": "execute_result"
    }
   ],
   "source": [
    "int(4.6)"
   ]
  },
  {
   "cell_type": "code",
   "execution_count": 2,
   "metadata": {},
   "outputs": [],
   "source": [
    "import pandas as pd\n",
    "\n",
    "col_name = ['student_id', 'grade_score', 'lect_name', 'credit', 'lect_domain']\n",
    "#temp_list = [['2021314602', 'A', '경정시', 3, '전공코어'],['2021314602','C','성균논어', 2, '인성']]\n",
    "temp_list = []\n",
    "df = pd.DataFrame(temp_list,columns=col_name)\n",
    "df.to_csv('user_isu.csv')"
   ]
  },
  {
   "cell_type": "code",
   "execution_count": 3,
   "metadata": {},
   "outputs": [],
   "source": [
    "import pandas as pd\n",
    "\n",
    "col_name = ['student_id', 'lect_name', 'credit', 'lect_domain', 'is_retry']\n",
    "temp_list = [['2021314602', '경정시', 3, '전공코어', 0],['2021314602','성균논어', 2, '인성', 1]]\n",
    "temp_list = []\n",
    "df = pd.DataFrame(temp_list,columns=col_name)\n",
    "df.to_csv('user_refined_isu.csv')"
   ]
  },
  {
   "cell_type": "code",
   "execution_count": 11,
   "metadata": {},
   "outputs": [],
   "source": [
    "#### 이부분은 직접 csv 만들어서 업로드\n",
    "import pandas as pd\n",
    "\n",
    "col_name = ['lect_name', 'prof_name', 'lect_room', 'lect_time', 'lect_onoff', 'lect_domain', 'credit']\n",
    "temp_list = [['기술관리', '조근태', '26421', ['금0', '금1', '금2', '금3', '금4', '금5', '금6', '금7', '금8', '금9', '금10', '금11', '금12', '금13', '금14', '금18', '금19', '금20', '금21', '금22', '금23', '금24', '금25', '금26', '금27', '금28', '금29', '금30', '금31', '금32'], '오프라인', '전공코어', 3]]\n",
    "df = pd.DataFrame(temp_list,columns=col_name)\n",
    "df.to_csv('open_major.csv')"
   ]
  },
  {
   "cell_type": "code",
   "execution_count": 12,
   "metadata": {},
   "outputs": [],
   "source": [
    "#### 이부분은 직접 csv 만들어서 업로드\n",
    "import pandas as pd\n",
    "\n",
    "col_name = ['lect_name', 'prof_name', 'lect_room', 'lect_time', 'lect_onoff', 'lect_domain', 'credit']\n",
    "temp_list = [['성균논어', '김미라', '51205', ['월24', '월25', '월26', '월27', '월28', '월29', '월30', '월31', '월32', '월33', '월36', '월37', '월38', '월39', '월40', '월41', '월42', '월43', '월44', '월45'], '글로벌-혁신[온라인사전강의 + 오프라인 또는 온라인 Real Time Streaming', ['성균인성.리더십', '인성'], 2]]\n",
    "df = pd.DataFrame(temp_list,columns=col_name)\n",
    "df.to_csv('open_gyoyang.csv')"
   ]
  },
  {
   "cell_type": "code",
   "execution_count": 14,
   "metadata": {},
   "outputs": [],
   "source": [
    "#### 이부분은 직접 csv 만들어서 업로드\n",
    "import pandas as pd\n",
    "\n",
    "col_name = ['lect_name', 'prof_name', 'total_rating', 'hw_rating', 'team_rating', 'grade_score_rating', 'hashtag']\n",
    "temp_list = [['응용통계및연습2', '강석호', 4.24, 2.3, 2.8, 1.9, ['#강의력좋음', '#변별력있음', '#학점높음', '#쉬운시험', '#한글요약', '#기본개념에위주', '#영어송이쉬움']]]\n",
    "df = pd.DataFrame(temp_list,columns=col_name)\n",
    "df.to_csv('lecture_review.csv')"
   ]
  },
  {
   "cell_type": "code",
   "execution_count": 15,
   "metadata": {},
   "outputs": [],
   "source": [
    "#### 이부분은 직접 csv 만들어서 업로드\n",
    "import pandas as pd\n",
    "\n",
    "col_name = ['year', 'abeek_gyoyang', 'abeek_MSC_must', 'abeek_MSC_total', 'abeek_major_must', 'abeek_major_total', 'abeek_design']\n",
    "temp_list = [[2018, 25, 10, 30, 24, 60, 9]]\n",
    "df = pd.DataFrame(temp_list,columns=col_name)\n",
    "df.to_csv('total_year_abeek_info.csv')"
   ]
  },
  {
   "cell_type": "code",
   "execution_count": 7,
   "metadata": {},
   "outputs": [],
   "source": [
    "#### 이부분은 직접 csv 만들어서 업로드\n",
    "import pandas as pd\n",
    "\n",
    "col_name = ['insung', 'leader', 'commu', 'creative', 'b_eng', 'p_eng', 'bsm', 'bsm_c', 'people', 'society', 'tech', 'gyoyang_total', 'major_total', 'credit_total']\n",
    "temp_list = [[2,2,4,2,4,2,24,6,3,3,3,55,60,130]]\n",
    "df = pd.DataFrame(temp_list,columns=col_name)\n",
    "df.to_csv('graduate_18_info.csv')"
   ]
  },
  {
   "cell_type": "code",
   "execution_count": 9,
   "metadata": {},
   "outputs": [],
   "source": [
    "#### 이부분은 직접 csv 만들어서 업로드\n",
    "import pandas as pd\n",
    "\n",
    "col_name = ['insung', 'classic', 'commu', 'creative', 'eng_must', 'eng_choice', 'bsm', 'people', 'society', 'tech', 'ds', 'gyoyang_total', 'major_core', 'major_deep', 'major_total', 'credit_total']\n",
    "temp_list = [[2,3,4,3,2,4,18,3,3,3,11,53,45,18,63,130]]\n",
    "df = pd.DataFrame(temp_list,columns=col_name)\n",
    "df.to_csv('graduate_21_info.csv')"
   ]
  },
  {
   "cell_type": "code",
   "execution_count": 20,
   "metadata": {},
   "outputs": [],
   "source": [
    "#### 이부분은 직접 csv 만들어서 업로드\n",
    "import pandas as pd\n",
    "\n",
    "col_name = [\"lect_name\", \"credit\", \"is_must\", \"credit_design\"]\n",
    "temp_list = [[\"창의적공학설계\", 3, 1, 3], [\"객체지향프로그래밍및실습\", 3, 0, 1.5]]\n",
    "df = pd.DataFrame(temp_list,columns=col_name)\n",
    "df.to_csv('abeek_18_major_info.csv')"
   ]
  },
  {
   "cell_type": "code",
   "execution_count": 21,
   "metadata": {},
   "outputs": [],
   "source": [
    "#### 이부분은 직접 csv 만들어서 업로드\n",
    "import pandas as pd\n",
    "\n",
    "col_name = [\"lect_name\", \"credit\", \"is_must\", \"credit_design\"]\n",
    "temp_list = [[\"창의적융합디자인\", 3, 1, 3],[\"실험적자료분석\",3,0,0]]\n",
    "df = pd.DataFrame(temp_list,columns=col_name)\n",
    "df.to_csv('abeek_21_major_info.csv')"
   ]
  },
  {
   "cell_type": "code",
   "execution_count": 22,
   "metadata": {},
   "outputs": [],
   "source": [
    "#### 이부분은 직접 csv 만들어서 업로드\n",
    "import pandas as pd\n",
    "\n",
    "col_name = [\"lect_name\", \"credit\", \"is_must\", \"group_num\"]\n",
    "temp_list = [[\"미분적분학1\", 3, 1, 0],[\"(고급)미분적분학1\", 3, 1, 0],[\"공학수학1\",3,1,2],[\"이산수학\",3,0,5]]\n",
    "df = pd.DataFrame(temp_list,columns=col_name)\n",
    "df.to_csv('abeek_18_MSC_info.csv')"
   ]
  },
  {
   "cell_type": "code",
   "execution_count": 23,
   "metadata": {},
   "outputs": [],
   "source": [
    "#### 이부분은 직접 csv 만들어서 업로드\n",
    "import pandas as pd\n",
    "\n",
    "col_name = [\"lect_name\", \"credit\", \"is_must\", \"group_num\"]\n",
    "temp_list = [[\"미분적분학1\", 3, 1, 0],[\"(고급)미분적분학1\", 3, 1, 0],[\"응용통계및연습1\",3,1,13],[\"이산수학\",3,0,5]]\n",
    "df = pd.DataFrame(temp_list,columns=col_name)\n",
    "df.to_csv('abeek_21_MSC_info.csv')"
   ]
  },
  {
   "cell_type": "code",
   "execution_count": 24,
   "metadata": {},
   "outputs": [],
   "source": [
    "#### 이부분은 직접 csv 만들어서 업로드\n",
    "import pandas as pd\n",
    "\n",
    "col_name = [\"lect_name\", \"relate_lect_name\", \"relate_score\"]\n",
    "temp_list = [[\"마케팅관리\",\"마케팅전략\",5],[\"응용통계및연습2\",\"선형대수학\",5]]\n",
    "df = pd.DataFrame(temp_list,columns=col_name)\n",
    "df.to_csv('relate_score_info.csv')"
   ]
  },
  {
   "cell_type": "code",
   "execution_count": 25,
   "metadata": {},
   "outputs": [],
   "source": [
    "#### 이부분은 직접 csv 만들어서 업로드\n",
    "import pandas as pd\n",
    "\n",
    "col_name = [\"level\", \"lect_name\"]\n",
    "temp_list = [[2,\"경영과학(OR)및실습1\"],[3, \"응용통계및연습2\"]]\n",
    "df = pd.DataFrame(temp_list,columns=col_name)\n",
    "df.to_csv('recommend_level_info.csv')"
   ]
  },
  {
   "cell_type": "code",
   "execution_count": 26,
   "metadata": {},
   "outputs": [],
   "source": [
    "#### 이부분은 직접 csv 만들어서 업로드\n",
    "import pandas as pd\n",
    "\n",
    "col_name = [\"lect_name\", \"pre_lect_name\", \"pre_penalty_score\"]\n",
    "temp_list = [[\"공학수치해석\", \"미분적분학1\", -10],[\"인간공학및실습\",\"실험계획법\",-20]]\n",
    "df = pd.DataFrame(temp_list,columns=col_name)\n",
    "df.to_csv('pre_penalty_score_info.csv')"
   ]
  },
  {
   "cell_type": "code",
   "execution_count": 1,
   "metadata": {},
   "outputs": [],
   "source": [
    "import pandas as pd\n",
    "\n",
    "col_name = [\"student_id\", \"lect_name\", \"prof_name\", \"is_up\", \"is_down\"]\n",
    "temp_list = []\n",
    "df = pd.DataFrame(temp_list,columns=col_name)\n",
    "df.to_csv('user_eval.csv')"
   ]
  },
  {
   "cell_type": "code",
   "execution_count": 19,
   "metadata": {},
   "outputs": [],
   "source": [
    "df = pd.read_csv(\"lecture_review.csv\").drop(['Unnamed: 7','Unnamed: 8','Unnamed: 9'], axis=1)\n",
    "df.to_csv(\"lecture_review.csv\")"
   ]
  },
  {
   "cell_type": "code",
   "execution_count": 23,
   "metadata": {},
   "outputs": [],
   "source": [
    "df = pd.read_csv(\"open_gyoyang.csv\").drop(['Unnamed: 5'], axis=1)\n",
    "df.to_csv(\"open_gyoyang.csv\")"
   ]
  },
  {
   "cell_type": "code",
   "execution_count": 50,
   "metadata": {},
   "outputs": [
    {
     "data": {
      "text/html": [
       "<div>\n",
       "<style scoped>\n",
       "    .dataframe tbody tr th:only-of-type {\n",
       "        vertical-align: middle;\n",
       "    }\n",
       "\n",
       "    .dataframe tbody tr th {\n",
       "        vertical-align: top;\n",
       "    }\n",
       "\n",
       "    .dataframe thead th {\n",
       "        text-align: right;\n",
       "    }\n",
       "</style>\n",
       "<table border=\"1\" class=\"dataframe\">\n",
       "  <thead>\n",
       "    <tr style=\"text-align: right;\">\n",
       "      <th></th>\n",
       "      <th>lect_name</th>\n",
       "      <th>prof_name</th>\n",
       "      <th>lect_room</th>\n",
       "      <th>lect_time</th>\n",
       "      <th>lect_time_numbered</th>\n",
       "      <th>lect_onoff</th>\n",
       "      <th>lect_domain</th>\n",
       "      <th>credit</th>\n",
       "    </tr>\n",
       "  </thead>\n",
       "  <tbody>\n",
       "    <tr>\n",
       "      <th>0</th>\n",
       "      <td>스마트카융합종합설계</td>\n",
       "      <td>황성호</td>\n",
       "      <td>['22301']</td>\n",
       "      <td>화15:00-15:50, 화16:00-16:50, 화17:00-17:50, 화18:...</td>\n",
       "      <td>['화72', '화73', '화74', '화75', '화76', '화77', '화7...</td>\n",
       "      <td>글로벌-혁신[온라인사전강의 + 오프라인 또는 온라인 Real Time Streaming</td>\n",
       "      <td>실험실습</td>\n",
       "      <td>3</td>\n",
       "    </tr>\n",
       "    <tr>\n",
       "      <th>1</th>\n",
       "      <td>공학수치해석</td>\n",
       "      <td>자비단</td>\n",
       "      <td>['26305']</td>\n",
       "      <td>화13:30-14:45, 목12:00-13:15</td>\n",
       "      <td>['화54', '화55', '화56', '화57', '화58', '화59', '화6...</td>\n",
       "      <td>오프라인</td>\n",
       "      <td>전공심화</td>\n",
       "      <td>3</td>\n",
       "    </tr>\n",
       "    <tr>\n",
       "      <th>2</th>\n",
       "      <td>공학수치해석</td>\n",
       "      <td>변도영</td>\n",
       "      <td>['22306']</td>\n",
       "      <td>월10:30-11:45, 수09:00-10:15</td>\n",
       "      <td>['월18', '월19', '월20', '월21', '월22', '월23', '월2...</td>\n",
       "      <td>글로벌-혁신[온라인사전강의 + 오프라인 또는 온라인 Real Time Streaming</td>\n",
       "      <td>전공심화</td>\n",
       "      <td>3</td>\n",
       "    </tr>\n",
       "    <tr>\n",
       "      <th>3</th>\n",
       "      <td>기술경영개론</td>\n",
       "      <td>조근태</td>\n",
       "      <td>['26421']</td>\n",
       "      <td>금15:00-16:15, 금16:30-17:45</td>\n",
       "      <td>['금72', '금73', '금74', '금75', '금76', '금77', '금7...</td>\n",
       "      <td>오프라인</td>\n",
       "      <td>전공심화</td>\n",
       "      <td>3</td>\n",
       "    </tr>\n",
       "    <tr>\n",
       "      <th>4</th>\n",
       "      <td>기술경영개론</td>\n",
       "      <td>조근태</td>\n",
       "      <td>['26513']</td>\n",
       "      <td>목18:00-19:15, 목19:30-20:45</td>\n",
       "      <td>['목108', '목109', '목110', '목111', '목112', '목113...</td>\n",
       "      <td>온라인[사전제작]</td>\n",
       "      <td>전공심화</td>\n",
       "      <td>3</td>\n",
       "    </tr>\n",
       "    <tr>\n",
       "      <th>...</th>\n",
       "      <td>...</td>\n",
       "      <td>...</td>\n",
       "      <td>...</td>\n",
       "      <td>...</td>\n",
       "      <td>...</td>\n",
       "      <td>...</td>\n",
       "      <td>...</td>\n",
       "      <td>...</td>\n",
       "    </tr>\n",
       "    <tr>\n",
       "      <th>77</th>\n",
       "      <td>경영전략</td>\n",
       "      <td>김상균</td>\n",
       "      <td>['33503']</td>\n",
       "      <td>화12:00-13:15, 목13:30-14:45</td>\n",
       "      <td>['화36', '화37', '화38', '화39', '화40', '화41', '화4...</td>\n",
       "      <td>오프라인</td>\n",
       "      <td>전공코어</td>\n",
       "      <td>3</td>\n",
       "    </tr>\n",
       "    <tr>\n",
       "      <th>78</th>\n",
       "      <td>경영전략</td>\n",
       "      <td>김상균</td>\n",
       "      <td>['33503']</td>\n",
       "      <td>화13:30-14:45, 목12:00-13:15</td>\n",
       "      <td>['화54', '화55', '화56', '화57', '화58', '화59', '화6...</td>\n",
       "      <td>오프라인</td>\n",
       "      <td>전공코어</td>\n",
       "      <td>3</td>\n",
       "    </tr>\n",
       "    <tr>\n",
       "      <th>79</th>\n",
       "      <td>경영전략</td>\n",
       "      <td>문철우</td>\n",
       "      <td>['33303']</td>\n",
       "      <td>화15:00-16:15, 목16:30-17:45</td>\n",
       "      <td>['화72', '화73', '화74', '화75', '화76', '화77', '화7...</td>\n",
       "      <td>온라인[사전제작]</td>\n",
       "      <td>전공코어</td>\n",
       "      <td>3</td>\n",
       "    </tr>\n",
       "    <tr>\n",
       "      <th>80</th>\n",
       "      <td>경영전략</td>\n",
       "      <td>문철우</td>\n",
       "      <td>['33303']</td>\n",
       "      <td>화16:30-17:45, 목15:00-16:15</td>\n",
       "      <td>['화90', '화91', '화92', '화93', '화94', '화95', '화9...</td>\n",
       "      <td>온라인[사전제작]</td>\n",
       "      <td>전공코어</td>\n",
       "      <td>3</td>\n",
       "    </tr>\n",
       "    <tr>\n",
       "      <th>81</th>\n",
       "      <td>자료구조개론</td>\n",
       "      <td>이승필</td>\n",
       "      <td>['31507']</td>\n",
       "      <td>금15:00-16:15, 금16:30-17:45</td>\n",
       "      <td>['금72', '금73', '금74', '금75', '금76', '금77', '금7...</td>\n",
       "      <td>글로벌-혁신[온라인사전강의 + 오프라인 또는 온라인 Real Time Streaming</td>\n",
       "      <td>전공코어</td>\n",
       "      <td>3</td>\n",
       "    </tr>\n",
       "  </tbody>\n",
       "</table>\n",
       "<p>82 rows × 8 columns</p>\n",
       "</div>"
      ],
      "text/plain": [
       "     lect_name prof_name  lect_room  \\\n",
       "0   스마트카융합종합설계       황성호  ['22301']   \n",
       "1       공학수치해석       자비단  ['26305']   \n",
       "2       공학수치해석       변도영  ['22306']   \n",
       "3       기술경영개론       조근태  ['26421']   \n",
       "4       기술경영개론       조근태  ['26513']   \n",
       "..         ...       ...        ...   \n",
       "77        경영전략       김상균  ['33503']   \n",
       "78        경영전략       김상균  ['33503']   \n",
       "79        경영전략       문철우  ['33303']   \n",
       "80        경영전략       문철우  ['33303']   \n",
       "81      자료구조개론       이승필  ['31507']   \n",
       "\n",
       "                                            lect_time  \\\n",
       "0   화15:00-15:50, 화16:00-16:50, 화17:00-17:50, 화18:...   \n",
       "1                          화13:30-14:45, 목12:00-13:15   \n",
       "2                          월10:30-11:45, 수09:00-10:15   \n",
       "3                          금15:00-16:15, 금16:30-17:45   \n",
       "4                          목18:00-19:15, 목19:30-20:45   \n",
       "..                                                ...   \n",
       "77                         화12:00-13:15, 목13:30-14:45   \n",
       "78                         화13:30-14:45, 목12:00-13:15   \n",
       "79                         화15:00-16:15, 목16:30-17:45   \n",
       "80                         화16:30-17:45, 목15:00-16:15   \n",
       "81                         금15:00-16:15, 금16:30-17:45   \n",
       "\n",
       "                                   lect_time_numbered  \\\n",
       "0   ['화72', '화73', '화74', '화75', '화76', '화77', '화7...   \n",
       "1   ['화54', '화55', '화56', '화57', '화58', '화59', '화6...   \n",
       "2   ['월18', '월19', '월20', '월21', '월22', '월23', '월2...   \n",
       "3   ['금72', '금73', '금74', '금75', '금76', '금77', '금7...   \n",
       "4   ['목108', '목109', '목110', '목111', '목112', '목113...   \n",
       "..                                                ...   \n",
       "77  ['화36', '화37', '화38', '화39', '화40', '화41', '화4...   \n",
       "78  ['화54', '화55', '화56', '화57', '화58', '화59', '화6...   \n",
       "79  ['화72', '화73', '화74', '화75', '화76', '화77', '화7...   \n",
       "80  ['화90', '화91', '화92', '화93', '화94', '화95', '화9...   \n",
       "81  ['금72', '금73', '금74', '금75', '금76', '금77', '금7...   \n",
       "\n",
       "                                          lect_onoff lect_domain  credit  \n",
       "0   글로벌-혁신[온라인사전강의 + 오프라인 또는 온라인 Real Time Streaming        실험실습       3  \n",
       "1                                               오프라인        전공심화       3  \n",
       "2   글로벌-혁신[온라인사전강의 + 오프라인 또는 온라인 Real Time Streaming        전공심화       3  \n",
       "3                                               오프라인        전공심화       3  \n",
       "4                                          온라인[사전제작]        전공심화       3  \n",
       "..                                               ...         ...     ...  \n",
       "77                                              오프라인        전공코어       3  \n",
       "78                                              오프라인        전공코어       3  \n",
       "79                                         온라인[사전제작]        전공코어       3  \n",
       "80                                         온라인[사전제작]        전공코어       3  \n",
       "81  글로벌-혁신[온라인사전강의 + 오프라인 또는 온라인 Real Time Streaming        전공코어       3  \n",
       "\n",
       "[82 rows x 8 columns]"
      ]
     },
     "execution_count": 50,
     "metadata": {},
     "output_type": "execute_result"
    }
   ],
   "source": [
    "df = pd.read_csv(\"open_major.csv\")\n",
    "df['lect_domain'].fillna('전공심화', inplace=True)\n",
    "df.fillna(' ',inplace=True)\n",
    "df.to_csv(\"open_major.csv\")\n",
    "df\n"
   ]
  },
  {
   "cell_type": "code",
   "execution_count": 45,
   "metadata": {},
   "outputs": [],
   "source": [
    "df = pd.read_csv(\"open_gyoyang.csv\",index_col=0).fillna(' ')\n",
    "df.to_csv(\"open_gyoyang.csv\")"
   ]
  },
  {
   "cell_type": "code",
   "execution_count": 16,
   "metadata": {},
   "outputs": [
    {
     "data": {
      "text/plain": [
       "range(0, 6)"
      ]
     },
     "execution_count": 16,
     "metadata": {},
     "output_type": "execute_result"
    }
   ],
   "source": [
    "교양_2023=['a','b','c','d','e','f']\n",
    "full_list = range(len(교양_2023))\n",
    "idx_list=[1,3]\n",
    "for i "
   ]
  },
  {
   "cell_type": "code",
   "execution_count": 22,
   "metadata": {},
   "outputs": [
    {
     "data": {
      "text/plain": [
       "['a', 'd']"
      ]
     },
     "execution_count": 22,
     "metadata": {},
     "output_type": "execute_result"
    }
   ],
   "source": [
    "a=['a','b','c','d']\n",
    "idx=[1,2]\n",
    "idx.sort(reverse=True)\n",
    "\n",
    "for id in idx:\n",
    "  del a[id]\n",
    "\n",
    "a"
   ]
  },
  {
   "cell_type": "code",
   "execution_count": 6,
   "metadata": {},
   "outputs": [],
   "source": [
    "import pandas as pd\n",
    "df = pd.read_csv(\"open_gyoyang.csv\",index_col=0)\n",
    "df.rename(columns={'lec_time' :'lect_time'},inplace=True)\n",
    "df.to_csv(\"open_gyoyang.csv\")"
   ]
  },
  {
   "cell_type": "code",
   "execution_count": null,
   "metadata": {},
   "outputs": [],
   "source": []
  }
 ],
 "metadata": {
  "kernelspec": {
   "display_name": "Python 3",
   "language": "python",
   "name": "python3"
  },
  "language_info": {
   "codemirror_mode": {
    "name": "ipython",
    "version": 3
   },
   "file_extension": ".py",
   "mimetype": "text/x-python",
   "name": "python",
   "nbconvert_exporter": "python",
   "pygments_lexer": "ipython3",
   "version": "3.11.4"
  },
  "orig_nbformat": 4
 },
 "nbformat": 4,
 "nbformat_minor": 2
}
